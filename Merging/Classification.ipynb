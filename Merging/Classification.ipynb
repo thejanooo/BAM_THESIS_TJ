{
 "cells": [
  {
   "cell_type": "code",
   "execution_count": 2,
   "metadata": {},
   "outputs": [],
   "source": [
    "import pandas as pd\n",
    "\n",
    "# Load Data\n",
    "df = pd.read_csv('../Final_df/BTC_FINAL_df.csv')"
   ]
  },
  {
   "cell_type": "code",
   "execution_count": 3,
   "metadata": {},
   "outputs": [],
   "source": [
    "df[\"Target\"] = (df[\"Close\"].pct_change().shift(-1) > 0).astype(int)"
   ]
  },
  {
   "cell_type": "code",
   "execution_count": 4,
   "metadata": {},
   "outputs": [],
   "source": [
    "df.to_csv('../Final_df/BTC_FINAL_df_class.csv', index=False)"
   ]
  },
  {
   "cell_type": "code",
   "execution_count": 5,
   "metadata": {},
   "outputs": [],
   "source": [
    "classi =  pd.read_csv('../Final_df/BTC_FINAL_df_class.csv')\n",
    "\n",
    "# Create one hot encoding for bullish sentiment and bearish sentiment\n",
    "def categorize_sentiment(score):\n",
    "    if score > 50:\n",
    "        return \"bullish\"\n",
    "    elif score >= 35:\n",
    "        return \"neutral\"\n",
    "    else:\n",
    "        return \"bearish\"\n",
    "    \n",
    "classi['Sentiment_category'] = classi['Sentiment_Bullish'].apply(categorize_sentiment)\n",
    "\n",
    "classi = pd.get_dummies(classi, columns=['Sentiment_category'], drop_first=False)\n",
    "\n",
    "classi['Sentiment_category_bearish'] = classi['Sentiment_category_bearish'].astype(int)\n",
    "classi['Sentiment_category_bullish'] = classi['Sentiment_category_bullish'].astype(int)\n",
    "classi['Sentiment_category_neutral'] = classi['Sentiment_category_neutral'].astype(int)"
   ]
  },
  {
   "cell_type": "code",
   "execution_count": 7,
   "metadata": {},
   "outputs": [],
   "source": [
    "classi.to_csv('../Final_df/BTC_FINAL_df_class_ON_HOT.csv', index=False)"
   ]
  },
  {
   "cell_type": "code",
   "execution_count": null,
   "metadata": {},
   "outputs": [],
   "source": []
  }
 ],
 "metadata": {
  "kernelspec": {
   "display_name": "base",
   "language": "python",
   "name": "python3"
  },
  "language_info": {
   "codemirror_mode": {
    "name": "ipython",
    "version": 3
   },
   "file_extension": ".py",
   "mimetype": "text/x-python",
   "name": "python",
   "nbconvert_exporter": "python",
   "pygments_lexer": "ipython3",
   "version": "3.11.7"
  }
 },
 "nbformat": 4,
 "nbformat_minor": 2
}
